{
  "nbformat": 4,
  "nbformat_minor": 0,
  "metadata": {
    "colab": {
      "provenance": [],
      "authorship_tag": "ABX9TyPwMImaFpjJOShDoO9HR1E2",
      "include_colab_link": true
    },
    "kernelspec": {
      "name": "python3",
      "display_name": "Python 3"
    },
    "language_info": {
      "name": "python"
    }
  },
  "cells": [
    {
      "cell_type": "markdown",
      "metadata": {
        "id": "view-in-github",
        "colab_type": "text"
      },
      "source": [
        "<a href=\"https://colab.research.google.com/github/ThamirisAdriano/gen_ia_mlet/blob/main/Attention_Mechanisms.ipynb\" target=\"_parent\"><img src=\"https://colab.research.google.com/assets/colab-badge.svg\" alt=\"Open In Colab\"/></a>"
      ]
    },
    {
      "cell_type": "markdown",
      "source": [
        "###O que são Attention Mechanisms?\n",
        "\n",
        "###Por que são importantes?\n",
        "\n",
        "###Como os Attention Mechanisms funcionam?"
      ],
      "metadata": {
        "id": "gZRZ5BveHELu"
      }
    },
    {
      "cell_type": "markdown",
      "source": [
        "##Implementando um Mecanismo de Atenção Simples"
      ],
      "metadata": {
        "id": "wOHtTlOqHgA5"
      }
    },
    {
      "cell_type": "markdown",
      "source": [
        "Importantdo a Biblioteca\n",
        "Objetivo: Importar a biblioteca NumPy, que é usada para realizar operações matemáticas e manipulação de arrays de maneira eficiente.\n"
      ],
      "metadata": {
        "id": "7KwbnldQISTE"
      }
    },
    {
      "cell_type": "code",
      "source": [
        "import numpy as np\n"
      ],
      "metadata": {
        "id": "d5psfAK1IVo1"
      },
      "execution_count": null,
      "outputs": []
    },
    {
      "cell_type": "markdown",
      "source": [
        "##Definindo a Função de Atenção Simples\n",
        "Objetivo: Criar uma função que aplica pesos de atenção às entradas e gera uma saída ponderada.\n",
        "\n",
        "inputs: Um array de entradas, onde cada linha representa uma sequência de dados.\n",
        "\n",
        "attention_weights: Um array de pesos de atenção, onde cada valor representa a importância da respectiva linha de entrada.\n",
        "\n",
        "Criar um array de entradas onde cada linha representa uma sequência de dados.\n",
        "\n",
        "Formato: Um array 3x4 (3 linhas e 4 colunas)."
      ],
      "metadata": {
        "id": "6dBTh47_Ic-m"
      }
    },
    {
      "cell_type": "code",
      "source": [
        "def attention_mechanism(inputs, attention_weights):\n",
        "    # Multiplicar os pesos de atenção com as entradas\n",
        "    weighted_inputs = inputs * attention_weights[:, np.newaxis]\n",
        "    return np.sum(weighted_inputs, axis=0)\n",
        "\n",
        "    inputs = np.array([\n",
        "    [1, 0, 1, 0],\n",
        "    [0, 2, 0, 2],\n",
        "    [1, 1, 1, 1]\n",
        "])\n"
      ],
      "metadata": {
        "id": "atEkGBy5IXe1"
      },
      "execution_count": null,
      "outputs": []
    },
    {
      "cell_type": "markdown",
      "source": [],
      "metadata": {
        "id": "r3uk9PoMBtkD"
      }
    },
    {
      "cell_type": "code",
      "source": [
        "attention_weights = np.array([0.1, 0.2, 0.7])\n",
        "\n",
        "# Aplicando o mecanismo de atenção\n",
        "output = attention_mechanism(inputs, attention_weights)\n",
        "\n",
        "print(\"Inputs:\")\n",
        "print(inputs)\n",
        "print(\"Attention Weights:\")\n",
        "print(attention_weights)\n",
        "print(\"Output com Atenção Aplicada:\")\n",
        "print(output)"
      ],
      "metadata": {
        "id": "rtbhb0cVI7ZY",
        "outputId": "6c72678e-5ed2-4ae2-f16a-41a7607a9fa2",
        "colab": {
          "base_uri": "https://localhost:8080/"
        }
      },
      "execution_count": null,
      "outputs": [
        {
          "output_type": "stream",
          "name": "stdout",
          "text": [
            "Inputs:\n",
            "[[1 0 1 0]\n",
            " [0 2 0 2]\n",
            " [1 1 1 1]]\n",
            "Attention Weights:\n",
            "[0.1 0.2 0.7]\n",
            "Output com Atenção Aplicada:\n",
            "[0.8 1.1 0.8 1.1]\n"
          ]
        }
      ]
    }
  ]
}
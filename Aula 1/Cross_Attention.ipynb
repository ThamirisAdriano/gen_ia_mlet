{
  "nbformat": 4,
  "nbformat_minor": 0,
  "metadata": {
    "colab": {
      "provenance": [],
      "authorship_tag": "ABX9TyMEGtCYqhjz8JuaUvuX1ygp",
      "include_colab_link": true
    },
    "kernelspec": {
      "name": "python3",
      "display_name": "Python 3"
    },
    "language_info": {
      "name": "python"
    }
  },
  "cells": [
    {
      "cell_type": "markdown",
      "metadata": {
        "id": "view-in-github",
        "colab_type": "text"
      },
      "source": [
        "<a href=\"https://colab.research.google.com/github/ThamirisAdriano/gen_ia_mlet/blob/main/Cross_Attention.ipynb\" target=\"_parent\"><img src=\"https://colab.research.google.com/assets/colab-badge.svg\" alt=\"Open In Colab\"/></a>"
      ]
    },
    {
      "cell_type": "code",
      "execution_count": 1,
      "metadata": {
        "id": "WVkEp4RNEmYQ"
      },
      "outputs": [],
      "source": [
        "import numpy as np"
      ]
    },
    {
      "cell_type": "code",
      "source": [
        "def softmax(x):\n",
        "    return np.exp(x) / np.sum(np.exp(x), axis=-1, keepdims=True)"
      ],
      "metadata": {
        "id": "XbEBzCfn8IUs"
      },
      "execution_count": 2,
      "outputs": []
    },
    {
      "cell_type": "markdown",
      "source": [
        "Objetivo: A função softmax converte uma lista de números em uma distribuição de probabilidades.\n",
        "Como funciona:\n",
        "Primeiro, np.exp(x) calcula o exponencial de cada valor em x.\n",
        "Em seguida, np.sum(np.exp(x), axis=-1, keepdims=True) calcula a soma desses exponenciais ao longo da última dimensão (axis=-1), mantendo as dimensões originais (keepdims=True).\n",
        "Finalmente, cada valor exponencial é dividido pela soma total para obter a probabilidade correspondente."
      ],
      "metadata": {
        "id": "BVbQPdAY8UBA"
      }
    },
    {
      "cell_type": "code",
      "source": [
        "def cross_attention(Q, K, V):\n",
        "    scores = np.dot(Q, K.T)\n",
        "    attention_weights = softmax(scores)\n",
        "    output = np.dot(attention_weights, V)\n",
        "    return output, attention_weights"
      ],
      "metadata": {
        "id": "mPHe5Gjj8fl6"
      },
      "execution_count": null,
      "outputs": []
    },
    {
      "cell_type": "markdown",
      "source": [
        "Objetivo: A função cross_attention implementa o mecanismo de atenção cruzada, calculando as \"pesos de atenção\" e a \"saída ponderada\" para as sequências de entrada.\n",
        "Passos detalhados:\n",
        "\n",
        "scores = np.dot(Q, K.T): Calcula as pontuações de atenção multiplicando as matrizes Q (queries) e K.T (a transposta de keys). Isso mede a similaridade entre cada par de elementos de Q e K.\n",
        "\n",
        "attention_weights = softmax(scores): Aplica a função softmax nas pontuações para transformar essas pontuações em probabilidades, que indicam a importância relativa de cada palavra em K para cada palavra em Q.\n",
        "\n",
        "output = np.dot(attention_weights, V): Multiplica os pesos de atenção pelos valores V para calcular a saída final, que é uma combinação ponderada dos valores V baseada nas probabilidades calculadas.\n"
      ],
      "metadata": {
        "id": "Ww64pt5L8ZBL"
      }
    },
    {
      "cell_type": "code",
      "source": [
        "Q = np.array([\n",
        "    [1, 0, 0],\n",
        "    [0, 1, 0]\n",
        "])\n",
        "\n",
        "K = np.array([\n",
        "    [1, 0, 1],\n",
        "    [0, 2, 0],\n",
        "    [1, 1, 1]\n",
        "])\n",
        "V = K\n",
        "\n"
      ],
      "metadata": {
        "id": "26Dm7BOM8LuR"
      },
      "execution_count": 3,
      "outputs": []
    },
    {
      "cell_type": "markdown",
      "source": [
        "Q: É uma matriz que representa a sequência de destino (ou queries). Cada linha corresponde a uma \"palavra\" na sequência de destino.\n",
        "\n",
        "K: É a matriz que representa a sequência de origem (ou keys). Cada linha corresponde a uma \"palavra\" na sequência de origem.\n",
        "\n",
        "V: Geralmente, V (values) é igual a K. Representa os valores que serão combinados para gerar a saída."
      ],
      "metadata": {
        "id": "iiiG05wi8jVH"
      }
    },
    {
      "cell_type": "code",
      "source": [
        "output, attention_weights = cross_attention(Q, K, V)"
      ],
      "metadata": {
        "id": "T3x9PFh58u2x"
      },
      "execution_count": 5,
      "outputs": []
    },
    {
      "cell_type": "markdown",
      "source": [
        "Chama a função: A função cross_attention é chamada com as matrizes Q, K, e V.\n",
        "Resultados:\n",
        "\n",
        "output: É a saída final, ou seja, a nova representação das palavras na sequência de destino depois de aplicar a atenção cruzada.\n",
        "\n",
        "attention_weights: São os pesos de atenção, que mostram quanto cada palavra na sequência de destino se relaciona com as palavras na sequência de origem."
      ],
      "metadata": {
        "id": "wfUS8xiq8we_"
      }
    },
    {
      "cell_type": "code",
      "source": [
        "print(\"Sequência de Destino (Q):\")\n",
        "print(Q)\n",
        "print(\"\\nSequência de Origem (K e V):\")\n",
        "print(K)\n",
        "print(\"\\nPesos de Atenção:\")\n",
        "print(attention_weights)\n",
        "print(\"\\nSaída com Cross-Attention Aplicada:\")\n",
        "print(output)"
      ],
      "metadata": {
        "colab": {
          "base_uri": "https://localhost:8080/"
        },
        "id": "-ST-nBBw8NEs",
        "outputId": "99c79e3c-3b1b-44a2-f75a-7d2e51cad7b9"
      },
      "execution_count": 4,
      "outputs": [
        {
          "output_type": "stream",
          "name": "stdout",
          "text": [
            "Sequência de Destino (Q):\n",
            "[[1 0 0]\n",
            " [0 1 0]]\n",
            "\n",
            "Sequência de Origem (K e V):\n",
            "[[1 0 1]\n",
            " [0 2 0]\n",
            " [1 1 1]]\n",
            "\n",
            "Pesos de Atenção:\n",
            "[[0.4223188  0.1553624  0.4223188 ]\n",
            " [0.09003057 0.66524096 0.24472847]]\n",
            "\n",
            "Saída com Cross-Attention Aplicada:\n",
            "[[0.8446376  0.73304361 0.8446376 ]\n",
            " [0.33475904 1.57521038 0.33475904]]\n"
          ]
        }
      ]
    },
    {
      "cell_type": "markdown",
      "source": [
        "Objetivo: Exibir os valores de Q, K, os pesos de atenção calculados, e a saída final output.\n",
        "Resultados mostrados:\n",
        "\n",
        "Sequência de Destino (Q): Exibe a matriz Q.\n",
        "\n",
        "Sequência de Origem (K e V): Exibe a matriz K (e V que é igual a K).\n",
        "Pesos de Atenção: Mostra as probabilidades calculadas que indicam a importância de cada palavra.\n",
        "\n",
        "Saída com Cross-Attention Aplicada: Mostra a nova sequência gerada após a aplicação da atenção cruzada."
      ],
      "metadata": {
        "id": "goZAQ9p385fs"
      }
    }
  ]
}